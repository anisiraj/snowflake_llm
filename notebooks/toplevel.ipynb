{
 "cells": [
  {
   "cell_type": "code",
   "execution_count": 8,
   "metadata": {},
   "outputs": [],
   "source": [
    "from snowflake_llm.helpers import get_meta_store, build_metadata_rag_query_engine\n",
    "from snowflake_llm.helpers import build_metadata_rag_query_engine"
   ]
  },
  {
   "cell_type": "code",
   "execution_count": 9,
   "metadata": {},
   "outputs": [],
   "source": [
    "metastore=get_meta_store()"
   ]
  },
  {
   "cell_type": "code",
   "execution_count": 11,
   "metadata": {},
   "outputs": [
    {
     "name": "stdout",
     "output_type": "stream",
     "text": [
      "usinf client=<openai.resources.chat.completions.Completions object at 0x7f260313dd60> async_client=<openai.resources.chat.completions.AsyncCompletions object at 0x7f260324e2b0> temperature=0.0 openai_api_key=SecretStr('**********') openai_proxy=''\n",
      "input_variables=['context', 'question'] template=\" \\nGiven an input question, first create a syntactically correct snowflake query to run, then look at the results of the query and return the answer. Unless the user specifies in his question a specific number of examples he wishes to obtain, always limit your query to at most 5 results. You can order the results by a relevant column to return the most interesting examples in the database.\\n\\nNever query for all the columns from a specific table, only ask for a the few relevant columns given the question.\\n\\nPay attention to use only the column names that you can see in the schema description. Be careful to not query for columns that do not exist. Also, pay attention to which column is in which table.\\nBe very strict about the syntax of the sql query. remember the following\\n1.If I don't tell you to find a limited set of results in the sql query or question, you MUST limit the number of responses to 10.\\n3. Text / string where clauses must be fuzzy match e.g ilike %keyword%\\n4. Make sure to generate a single snowflake sql code, not multiple.\\n5. Make sure to use the correct table name in the query.\\n7. take every step to ensure that the query does not make too big datapull.\\n8. must enforce limit if asked to pull all data\\nSome optional details can be included in the following section parse them \\nfrom between '<<' and '>>'  \\ndatabase name: SNOWFLAKE_SAMPLE_DATA\\nschema name: TPCDS_SF100TCL  \\n\\nin general sowflake has a hierarchy structure which is described below\\ndatabase -> schema -> table -> column\\n \\n\\n\\nUse the following format:\\n\\nQuestion: Question here\\nSQLQuery: SQL Query to run\\nSQLResult: Result of the SQLQuery\\nAnswer: Final answer here\\n\\nUse the context provided to parse the table information:\\nContext:{context}\\n\\nQuestion: {question}\\n\"\n"
     ]
    }
   ],
   "source": [
    "chat_agent=build_metadata_rag_query_engine(metastore=metastore)"
   ]
  },
  {
   "cell_type": "code",
   "execution_count": 12,
   "metadata": {},
   "outputs": [
    {
     "data": {
      "text/plain": [
       "'The list of tables in the database includes the following tables:\\n1. CALL_CENTER\\n2. CATALOG_PAGE\\n3. CATALOG_RETURNS\\n4. CATALOG_SALES\\n5. CUSTOMER\\n6. CUSTOMER_ADDRESS\\n7. CUSTOMER_DEMOGRAPHICS\\n8. DATE_DIM\\n9. HOUSEHOLD_DEMOGRAPHICS\\n10. INCOME_BAND\\n11. INVENTORY\\n12. ITEM\\n13. PROMOTION\\n14. REASON\\n15. SHIP_MODE\\n16. STORE\\n17. STORE_RETURNS\\n18. STORE_SALES\\n19. TIME_DIM\\n20. WAREHOUSE\\n21. WEB_PAGE\\n22. WEB_RETURNS\\n23. WEB_SALES\\n24. WEB_SITE\\n\\nThese are the tables currently present in the database.'"
      ]
     },
     "execution_count": 12,
     "metadata": {},
     "output_type": "execute_result"
    }
   ],
   "source": [
    "chat_agent.answer(\"can show mee list of tables?\")"
   ]
  },
  {
   "cell_type": "code",
   "execution_count": 13,
   "metadata": {},
   "outputs": [
    {
     "data": {
      "text/plain": [
       "'SELECT * FROM SNOWFLAKE_SAMPLE_DATA.TPCDS_SF100TCL.catalog_sales'"
      ]
     },
     "execution_count": 13,
     "metadata": {},
     "output_type": "execute_result"
    }
   ],
   "source": [
    "chat_agent.generate_query(\"pull all data from catalog_sales\")"
   ]
  },
  {
   "cell_type": "code",
   "execution_count": 7,
   "metadata": {},
   "outputs": [
    {
     "data": {
      "text/plain": [
       "'The three table names are CATALOG_PAGE, CATALOG_SALES, and CATALOG_RETURNS.'"
      ]
     },
     "execution_count": 7,
     "metadata": {},
     "output_type": "execute_result"
    }
   ],
   "source": [
    "chat_agent.answer(\"gie me three table names\")"
   ]
  },
  {
   "cell_type": "code",
   "execution_count": 19,
   "metadata": {},
   "outputs": [
    {
     "data": {
      "text/plain": [
       "'The columns in the CATALOG_PAGE table in the TPCDS_SF100TCL schema are:\\n- cp_catalog_page_sk\\n- cp_catalog_page_id\\n- cp_start_date_sk\\n- cp_end_date_sk\\n- cp_department\\n- cp_catalog_number\\n- cp_catalog_page_number\\n- cp_description\\n- cp_type\\n- cp_char_count\\n- cp_char_count_desc\\n- cp_presentation_fg'"
      ]
     },
     "execution_count": 19,
     "metadata": {},
     "output_type": "execute_result"
    }
   ],
   "source": [
    "chat_agent.answer(\"what columns ae in CATALOG_PAGE\")"
   ]
  },
  {
   "cell_type": "markdown",
   "metadata": {},
   "source": []
  }
 ],
 "metadata": {
  "kernelspec": {
   "display_name": "snowflake_llm",
   "language": "python",
   "name": "python3"
  },
  "language_info": {
   "codemirror_mode": {
    "name": "ipython",
    "version": 3
   },
   "file_extension": ".py",
   "mimetype": "text/x-python",
   "name": "python",
   "nbconvert_exporter": "python",
   "pygments_lexer": "ipython3",
   "version": "3.9.18"
  }
 },
 "nbformat": 4,
 "nbformat_minor": 2
}
